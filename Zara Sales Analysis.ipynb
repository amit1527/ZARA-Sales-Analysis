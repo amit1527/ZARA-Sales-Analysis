{
 "cells": [
  {
   "cell_type": "code",
   "execution_count": 51,
   "id": "f606aabd",
   "metadata": {},
   "outputs": [
    {
     "data": {
      "text/html": [
       "<div>\n",
       "<style scoped>\n",
       "    .dataframe tbody tr th:only-of-type {\n",
       "        vertical-align: middle;\n",
       "    }\n",
       "\n",
       "    .dataframe tbody tr th {\n",
       "        vertical-align: top;\n",
       "    }\n",
       "\n",
       "    .dataframe thead th {\n",
       "        text-align: right;\n",
       "    }\n",
       "</style>\n",
       "<table border=\"1\" class=\"dataframe\">\n",
       "  <thead>\n",
       "    <tr style=\"text-align: right;\">\n",
       "      <th></th>\n",
       "      <th>Product ID</th>\n",
       "      <th>Product Position</th>\n",
       "      <th>Promotion</th>\n",
       "      <th>Product Category</th>\n",
       "      <th>Seasonal</th>\n",
       "      <th>Sales Volume</th>\n",
       "      <th>brand</th>\n",
       "      <th>url</th>\n",
       "      <th>sku</th>\n",
       "      <th>name</th>\n",
       "      <th>description</th>\n",
       "      <th>price</th>\n",
       "      <th>currency</th>\n",
       "      <th>scraped_at</th>\n",
       "      <th>terms</th>\n",
       "      <th>section</th>\n",
       "    </tr>\n",
       "  </thead>\n",
       "  <tbody>\n",
       "    <tr>\n",
       "      <th>0</th>\n",
       "      <td>185102</td>\n",
       "      <td>Aisle</td>\n",
       "      <td>No</td>\n",
       "      <td>Clothing</td>\n",
       "      <td>No</td>\n",
       "      <td>2823</td>\n",
       "      <td>Zara</td>\n",
       "      <td>https://www.zara.com/us/en/basic-puffer-jacket...</td>\n",
       "      <td>272145190-250-2</td>\n",
       "      <td>BASIC PUFFER JACKET</td>\n",
       "      <td>Puffer jacket made of tear-resistant ripstop f...</td>\n",
       "      <td>19.99</td>\n",
       "      <td>USD</td>\n",
       "      <td>2024-02-19T08:50:05.654618</td>\n",
       "      <td>jackets</td>\n",
       "      <td>MAN</td>\n",
       "    </tr>\n",
       "    <tr>\n",
       "      <th>1</th>\n",
       "      <td>188771</td>\n",
       "      <td>Aisle</td>\n",
       "      <td>No</td>\n",
       "      <td>Clothing</td>\n",
       "      <td>No</td>\n",
       "      <td>654</td>\n",
       "      <td>Zara</td>\n",
       "      <td>https://www.zara.com/us/en/tuxedo-jacket-p0889...</td>\n",
       "      <td>324052738-800-46</td>\n",
       "      <td>TUXEDO JACKET</td>\n",
       "      <td>Straight fit blazer. Pointed lapel collar and ...</td>\n",
       "      <td>169.00</td>\n",
       "      <td>USD</td>\n",
       "      <td>2024-02-19T08:50:06.590930</td>\n",
       "      <td>jackets</td>\n",
       "      <td>MAN</td>\n",
       "    </tr>\n",
       "    <tr>\n",
       "      <th>2</th>\n",
       "      <td>180176</td>\n",
       "      <td>End-cap</td>\n",
       "      <td>Yes</td>\n",
       "      <td>Clothing</td>\n",
       "      <td>Yes</td>\n",
       "      <td>2220</td>\n",
       "      <td>Zara</td>\n",
       "      <td>https://www.zara.com/us/en/slim-fit-suit-jacke...</td>\n",
       "      <td>335342680-800-44</td>\n",
       "      <td>SLIM FIT SUIT JACKET</td>\n",
       "      <td>Slim fit jacket. Notched lapel collar. Long sl...</td>\n",
       "      <td>129.00</td>\n",
       "      <td>USD</td>\n",
       "      <td>2024-02-19T08:50:07.301419</td>\n",
       "      <td>jackets</td>\n",
       "      <td>MAN</td>\n",
       "    </tr>\n",
       "    <tr>\n",
       "      <th>3</th>\n",
       "      <td>112917</td>\n",
       "      <td>Aisle</td>\n",
       "      <td>Yes</td>\n",
       "      <td>Clothing</td>\n",
       "      <td>Yes</td>\n",
       "      <td>1568</td>\n",
       "      <td>Zara</td>\n",
       "      <td>https://www.zara.com/us/en/stretch-suit-jacket...</td>\n",
       "      <td>328303236-420-44</td>\n",
       "      <td>STRETCH SUIT JACKET</td>\n",
       "      <td>Slim fit jacket made of viscose blend fabric. ...</td>\n",
       "      <td>129.00</td>\n",
       "      <td>USD</td>\n",
       "      <td>2024-02-19T08:50:07.882922</td>\n",
       "      <td>jackets</td>\n",
       "      <td>MAN</td>\n",
       "    </tr>\n",
       "    <tr>\n",
       "      <th>4</th>\n",
       "      <td>192936</td>\n",
       "      <td>End-cap</td>\n",
       "      <td>No</td>\n",
       "      <td>Clothing</td>\n",
       "      <td>Yes</td>\n",
       "      <td>2942</td>\n",
       "      <td>Zara</td>\n",
       "      <td>https://www.zara.com/us/en/double-faced-jacket...</td>\n",
       "      <td>312368260-800-2</td>\n",
       "      <td>DOUBLE FACED JACKET</td>\n",
       "      <td>Jacket made of faux leather faux shearling wit...</td>\n",
       "      <td>139.00</td>\n",
       "      <td>USD</td>\n",
       "      <td>2024-02-19T08:50:08.453847</td>\n",
       "      <td>jackets</td>\n",
       "      <td>MAN</td>\n",
       "    </tr>\n",
       "  </tbody>\n",
       "</table>\n",
       "</div>"
      ],
      "text/plain": [
       "   Product ID Product Position Promotion Product Category Seasonal  \\\n",
       "0      185102            Aisle        No         Clothing       No   \n",
       "1      188771            Aisle        No         Clothing       No   \n",
       "2      180176          End-cap       Yes         Clothing      Yes   \n",
       "3      112917            Aisle       Yes         Clothing      Yes   \n",
       "4      192936          End-cap        No         Clothing      Yes   \n",
       "\n",
       "   Sales Volume brand                                                url  \\\n",
       "0          2823  Zara  https://www.zara.com/us/en/basic-puffer-jacket...   \n",
       "1           654  Zara  https://www.zara.com/us/en/tuxedo-jacket-p0889...   \n",
       "2          2220  Zara  https://www.zara.com/us/en/slim-fit-suit-jacke...   \n",
       "3          1568  Zara  https://www.zara.com/us/en/stretch-suit-jacket...   \n",
       "4          2942  Zara  https://www.zara.com/us/en/double-faced-jacket...   \n",
       "\n",
       "                sku                  name  \\\n",
       "0   272145190-250-2   BASIC PUFFER JACKET   \n",
       "1  324052738-800-46         TUXEDO JACKET   \n",
       "2  335342680-800-44  SLIM FIT SUIT JACKET   \n",
       "3  328303236-420-44   STRETCH SUIT JACKET   \n",
       "4   312368260-800-2   DOUBLE FACED JACKET   \n",
       "\n",
       "                                         description   price currency  \\\n",
       "0  Puffer jacket made of tear-resistant ripstop f...   19.99      USD   \n",
       "1  Straight fit blazer. Pointed lapel collar and ...  169.00      USD   \n",
       "2  Slim fit jacket. Notched lapel collar. Long sl...  129.00      USD   \n",
       "3  Slim fit jacket made of viscose blend fabric. ...  129.00      USD   \n",
       "4  Jacket made of faux leather faux shearling wit...  139.00      USD   \n",
       "\n",
       "                   scraped_at    terms section  \n",
       "0  2024-02-19T08:50:05.654618  jackets     MAN  \n",
       "1  2024-02-19T08:50:06.590930  jackets     MAN  \n",
       "2  2024-02-19T08:50:07.301419  jackets     MAN  \n",
       "3  2024-02-19T08:50:07.882922  jackets     MAN  \n",
       "4  2024-02-19T08:50:08.453847  jackets     MAN  "
      ]
     },
     "execution_count": 51,
     "metadata": {},
     "output_type": "execute_result"
    }
   ],
   "source": [
    "import pandas as pd\n",
    "import matplotlib.pyplot as plt\n",
    "import numpy as np\n",
    "df = pd.read_csv(r\"C:\\Users\\AMIT\\Downloads\\archive\\zara.csv\", sep=';')\n",
    "df.head()"
   ]
  },
  {
   "cell_type": "markdown",
   "id": "9e10ce4e",
   "metadata": {},
   "source": [
    "Checking columns,rows and Data type"
   ]
  },
  {
   "cell_type": "code",
   "execution_count": null,
   "id": "28c7eb75",
   "metadata": {},
   "outputs": [
    {
     "name": "stdout",
     "output_type": "stream",
     "text": [
      "<class 'pandas.core.frame.DataFrame'>\n",
      "RangeIndex: 252 entries, 0 to 251\n",
      "Data columns (total 16 columns):\n",
      " #   Column            Non-Null Count  Dtype  \n",
      "---  ------            --------------  -----  \n",
      " 0   Product ID        252 non-null    int64  \n",
      " 1   Product Position  252 non-null    object \n",
      " 2   Promotion         252 non-null    object \n",
      " 3   Product Category  252 non-null    object \n",
      " 4   Seasonal          252 non-null    object \n",
      " 5   Sales Volume      252 non-null    int64  \n",
      " 6   brand             252 non-null    object \n",
      " 7   url               252 non-null    object \n",
      " 8   sku               252 non-null    object \n",
      " 9   name              251 non-null    object \n",
      " 10  description       250 non-null    object \n",
      " 11  price             252 non-null    float64\n",
      " 12  currency          252 non-null    object \n",
      " 13  scraped_at        252 non-null    object \n",
      " 14  terms             252 non-null    object \n",
      " 15  section           252 non-null    object \n",
      "dtypes: float64(1), int64(2), object(13)\n",
      "memory usage: 31.6+ KB\n"
     ]
    }
   ],
   "source": [
    "\n",
    "df.info()"
   ]
  },
  {
   "cell_type": "markdown",
   "id": "1cf0df4d",
   "metadata": {},
   "source": [
    "Checking null values"
   ]
  },
  {
   "cell_type": "code",
   "execution_count": 20,
   "id": "2dd445fe",
   "metadata": {},
   "outputs": [
    {
     "data": {
      "text/plain": [
       "Product ID          0\n",
       "Product Position    0\n",
       "Promotion           0\n",
       "Product Category    0\n",
       "Seasonal            0\n",
       "Sales Volume        0\n",
       "brand               0\n",
       "url                 0\n",
       "sku                 0\n",
       "name                1\n",
       "description         2\n",
       "price               0\n",
       "currency            0\n",
       "scraped_at          0\n",
       "terms               0\n",
       "section             0\n",
       "dtype: int64"
      ]
     },
     "execution_count": 20,
     "metadata": {},
     "output_type": "execute_result"
    }
   ],
   "source": [
    "\n",
    "df.isnull().sum()\n",
    "#found!!"
   ]
  },
  {
   "cell_type": "markdown",
   "id": "ffda053a",
   "metadata": {},
   "source": [
    "Checking duplicates\n"
   ]
  },
  {
   "cell_type": "code",
   "execution_count": 23,
   "id": "5d014032",
   "metadata": {},
   "outputs": [
    {
     "data": {
      "text/plain": [
       "False    252\n",
       "Name: count, dtype: int64"
      ]
     },
     "execution_count": 23,
     "metadata": {},
     "output_type": "execute_result"
    }
   ],
   "source": [
    "df.duplicated().value_counts()\n",
    "#not found"
   ]
  },
  {
   "cell_type": "markdown",
   "id": "52b44702",
   "metadata": {},
   "source": [
    "Checking datatype"
   ]
  },
  {
   "cell_type": "code",
   "execution_count": null,
   "id": "f1f4724c",
   "metadata": {},
   "outputs": [
    {
     "data": {
      "text/plain": [
       "Product ID            int64\n",
       "Product Position     object\n",
       "Promotion            object\n",
       "Product Category     object\n",
       "Seasonal             object\n",
       "Sales Volume          int64\n",
       "brand                object\n",
       "url                  object\n",
       "sku                  object\n",
       "name                 object\n",
       "description          object\n",
       "price               float64\n",
       "currency             object\n",
       "scraped_at           object\n",
       "terms                object\n",
       "section              object\n",
       "dtype: object"
      ]
     },
     "execution_count": 28,
     "metadata": {},
     "output_type": "execute_result"
    }
   ],
   "source": [
    "df.dtypes\n",
    "#why scraped at is object? isnt it is date?"
   ]
  },
  {
   "cell_type": "markdown",
   "id": "d6563192",
   "metadata": {},
   "source": [
    "Checking Valid entries or outliers\n"
   ]
  },
  {
   "cell_type": "code",
   "execution_count": 45,
   "id": "38ac70bb",
   "metadata": {},
   "outputs": [
    {
     "data": {
      "text/html": [
       "<div>\n",
       "<style scoped>\n",
       "    .dataframe tbody tr th:only-of-type {\n",
       "        vertical-align: middle;\n",
       "    }\n",
       "\n",
       "    .dataframe tbody tr th {\n",
       "        vertical-align: top;\n",
       "    }\n",
       "\n",
       "    .dataframe thead th {\n",
       "        text-align: right;\n",
       "    }\n",
       "</style>\n",
       "<table border=\"1\" class=\"dataframe\">\n",
       "  <thead>\n",
       "    <tr style=\"text-align: right;\">\n",
       "      <th></th>\n",
       "      <th>Product ID</th>\n",
       "      <th>Product Position</th>\n",
       "      <th>Promotion</th>\n",
       "      <th>Product Category</th>\n",
       "      <th>Seasonal</th>\n",
       "      <th>Sales Volume</th>\n",
       "      <th>brand</th>\n",
       "      <th>url</th>\n",
       "      <th>sku</th>\n",
       "      <th>name</th>\n",
       "      <th>description</th>\n",
       "      <th>price</th>\n",
       "      <th>currency</th>\n",
       "      <th>scraped_at</th>\n",
       "      <th>terms</th>\n",
       "      <th>section</th>\n",
       "    </tr>\n",
       "  </thead>\n",
       "  <tbody>\n",
       "    <tr>\n",
       "      <th>13</th>\n",
       "      <td>151396</td>\n",
       "      <td>Front of Store</td>\n",
       "      <td>Yes</td>\n",
       "      <td>Clothing</td>\n",
       "      <td>Yes</td>\n",
       "      <td>729</td>\n",
       "      <td>Zara</td>\n",
       "      <td>https://www.zara.com/us/en/cropped-leather-jac...</td>\n",
       "      <td>323134418-800-3</td>\n",
       "      <td>CROPPED LEATHER JACKET</td>\n",
       "      <td>Leather jacket. Cropped length. Lapel collar a...</td>\n",
       "      <td>439.0</td>\n",
       "      <td>USD</td>\n",
       "      <td>2024-02-19T08:50:13.771115</td>\n",
       "      <td>jackets</td>\n",
       "      <td>MAN</td>\n",
       "    </tr>\n",
       "  </tbody>\n",
       "</table>\n",
       "</div>"
      ],
      "text/plain": [
       "    Product ID Product Position Promotion Product Category Seasonal  \\\n",
       "13      151396   Front of Store       Yes         Clothing      Yes   \n",
       "\n",
       "    Sales Volume brand                                                url  \\\n",
       "13           729  Zara  https://www.zara.com/us/en/cropped-leather-jac...   \n",
       "\n",
       "                sku                    name  \\\n",
       "13  323134418-800-3  CROPPED LEATHER JACKET   \n",
       "\n",
       "                                          description  price currency  \\\n",
       "13  Leather jacket. Cropped length. Lapel collar a...  439.0      USD   \n",
       "\n",
       "                    scraped_at    terms section  \n",
       "13  2024-02-19T08:50:13.771115  jackets     MAN  "
      ]
     },
     "execution_count": 45,
     "metadata": {},
     "output_type": "execute_result"
    }
   ],
   "source": [
    "df['price'].describe()\n",
    "#max = 439, when mean is 86, suspecious\n",
    "df.loc[df['price'] == 439]\n",
    "#ok nothing wrong"
   ]
  },
  {
   "cell_type": "code",
   "execution_count": null,
   "id": "cdfef8ef",
   "metadata": {},
   "outputs": [
    {
     "data": {
      "text/html": [
       "<div>\n",
       "<style scoped>\n",
       "    .dataframe tbody tr th:only-of-type {\n",
       "        vertical-align: middle;\n",
       "    }\n",
       "\n",
       "    .dataframe tbody tr th {\n",
       "        vertical-align: top;\n",
       "    }\n",
       "\n",
       "    .dataframe thead th {\n",
       "        text-align: right;\n",
       "    }\n",
       "</style>\n",
       "<table border=\"1\" class=\"dataframe\">\n",
       "  <thead>\n",
       "    <tr style=\"text-align: right;\">\n",
       "      <th></th>\n",
       "      <th>Product ID</th>\n",
       "      <th>Product Position</th>\n",
       "      <th>Promotion</th>\n",
       "      <th>Product Category</th>\n",
       "      <th>Seasonal</th>\n",
       "      <th>Sales Volume</th>\n",
       "      <th>brand</th>\n",
       "      <th>url</th>\n",
       "      <th>sku</th>\n",
       "      <th>name</th>\n",
       "      <th>description</th>\n",
       "      <th>price</th>\n",
       "      <th>currency</th>\n",
       "      <th>scraped_at</th>\n",
       "      <th>terms</th>\n",
       "      <th>section</th>\n",
       "    </tr>\n",
       "  </thead>\n",
       "  <tbody>\n",
       "    <tr>\n",
       "      <th>60</th>\n",
       "      <td>151925</td>\n",
       "      <td>End-cap</td>\n",
       "      <td>Yes</td>\n",
       "      <td>Clothing</td>\n",
       "      <td>Yes</td>\n",
       "      <td>2179</td>\n",
       "      <td>Zara</td>\n",
       "      <td>https://www.zara.com/us/en/vintage-effect-leat...</td>\n",
       "      <td>320774184-800-97</td>\n",
       "      <td>VINTAGE EFFECT LEATHER BOMBER JACKET</td>\n",
       "      <td>NaN</td>\n",
       "      <td>299.0</td>\n",
       "      <td>USD</td>\n",
       "      <td>2024-02-19T08:50:43.543555</td>\n",
       "      <td>jackets</td>\n",
       "      <td>MAN</td>\n",
       "    </tr>\n",
       "    <tr>\n",
       "      <th>72</th>\n",
       "      <td>173576</td>\n",
       "      <td>End-cap</td>\n",
       "      <td>Yes</td>\n",
       "      <td>Clothing</td>\n",
       "      <td>No</td>\n",
       "      <td>1838</td>\n",
       "      <td>Zara</td>\n",
       "      <td>https://www.zara.com/us/en/-p04310461.html</td>\n",
       "      <td>336378923-700-2</td>\n",
       "      <td>NaN</td>\n",
       "      <td>NaN</td>\n",
       "      <td>129.0</td>\n",
       "      <td>USD</td>\n",
       "      <td>2024-02-19T08:50:54.476057</td>\n",
       "      <td>jackets</td>\n",
       "      <td>MAN</td>\n",
       "    </tr>\n",
       "  </tbody>\n",
       "</table>\n",
       "</div>"
      ],
      "text/plain": [
       "    Product ID Product Position Promotion Product Category Seasonal  \\\n",
       "60      151925          End-cap       Yes         Clothing      Yes   \n",
       "72      173576          End-cap       Yes         Clothing       No   \n",
       "\n",
       "    Sales Volume brand                                                url  \\\n",
       "60          2179  Zara  https://www.zara.com/us/en/vintage-effect-leat...   \n",
       "72          1838  Zara         https://www.zara.com/us/en/-p04310461.html   \n",
       "\n",
       "                 sku                                  name description  price  \\\n",
       "60  320774184-800-97  VINTAGE EFFECT LEATHER BOMBER JACKET         NaN  299.0   \n",
       "72   336378923-700-2                                   NaN         NaN  129.0   \n",
       "\n",
       "   currency                  scraped_at    terms section  \n",
       "60      USD  2024-02-19T08:50:43.543555  jackets     MAN  \n",
       "72      USD  2024-02-19T08:50:54.476057  jackets     MAN  "
      ]
     },
     "execution_count": 66,
     "metadata": {},
     "output_type": "execute_result"
    }
   ],
   "source": [
    "df['price'].isna().value_counts()\n",
    "df['price'].isnull().value_counts()\n",
    "#nothing wrong"
   ]
  },
  {
   "cell_type": "code",
   "execution_count": 49,
   "id": "85ea6f45",
   "metadata": {},
   "outputs": [
    {
     "data": {
      "text/plain": [
       "Sales Volume\n",
       "False    252\n",
       "Name: count, dtype: int64"
      ]
     },
     "execution_count": 49,
     "metadata": {},
     "output_type": "execute_result"
    }
   ],
   "source": [
    "df['Sales Volume'].describe()\n",
    "df['Sales Volume'].isna().value_counts()\n",
    "df['Sales Volume'].isnull().value_counts()\n",
    "#nothing wrong"
   ]
  },
  {
   "cell_type": "code",
   "execution_count": 26,
   "id": "55f9f16c",
   "metadata": {},
   "outputs": [
    {
     "data": {
      "text/html": [
       "<div>\n",
       "<style scoped>\n",
       "    .dataframe tbody tr th:only-of-type {\n",
       "        vertical-align: middle;\n",
       "    }\n",
       "\n",
       "    .dataframe tbody tr th {\n",
       "        vertical-align: top;\n",
       "    }\n",
       "\n",
       "    .dataframe thead th {\n",
       "        text-align: right;\n",
       "    }\n",
       "</style>\n",
       "<table border=\"1\" class=\"dataframe\">\n",
       "  <thead>\n",
       "    <tr style=\"text-align: right;\">\n",
       "      <th></th>\n",
       "      <th>Product ID</th>\n",
       "      <th>Product Position</th>\n",
       "      <th>Promotion</th>\n",
       "      <th>Product Category</th>\n",
       "      <th>Seasonal</th>\n",
       "      <th>Sales Volume</th>\n",
       "      <th>brand</th>\n",
       "      <th>url</th>\n",
       "      <th>sku</th>\n",
       "      <th>name</th>\n",
       "      <th>description</th>\n",
       "      <th>price</th>\n",
       "      <th>currency</th>\n",
       "      <th>scraped_at</th>\n",
       "      <th>terms</th>\n",
       "      <th>section</th>\n",
       "    </tr>\n",
       "  </thead>\n",
       "  <tbody>\n",
       "    <tr>\n",
       "      <th>0</th>\n",
       "      <td>185102</td>\n",
       "      <td>Aisle</td>\n",
       "      <td>No</td>\n",
       "      <td>Clothing</td>\n",
       "      <td>No</td>\n",
       "      <td>2823</td>\n",
       "      <td>Zara</td>\n",
       "      <td>https://www.zara.com/us/en/basic-puffer-jacket...</td>\n",
       "      <td>272145190-250-2</td>\n",
       "      <td>BASIC PUFFER JACKET</td>\n",
       "      <td>Puffer jacket made of tear-resistant ripstop f...</td>\n",
       "      <td>19.99</td>\n",
       "      <td>USD</td>\n",
       "      <td>2024-02-19T08:50:05.654618</td>\n",
       "      <td>jackets</td>\n",
       "      <td>MAN</td>\n",
       "    </tr>\n",
       "  </tbody>\n",
       "</table>\n",
       "</div>"
      ],
      "text/plain": [
       "   Product ID Product Position Promotion Product Category Seasonal  \\\n",
       "0      185102            Aisle        No         Clothing       No   \n",
       "\n",
       "   Sales Volume brand                                                url  \\\n",
       "0          2823  Zara  https://www.zara.com/us/en/basic-puffer-jacket...   \n",
       "\n",
       "               sku                 name  \\\n",
       "0  272145190-250-2  BASIC PUFFER JACKET   \n",
       "\n",
       "                                         description  price currency  \\\n",
       "0  Puffer jacket made of tear-resistant ripstop f...  19.99      USD   \n",
       "\n",
       "                   scraped_at    terms section  \n",
       "0  2024-02-19T08:50:05.654618  jackets     MAN  "
      ]
     },
     "execution_count": 26,
     "metadata": {},
     "output_type": "execute_result"
    }
   ],
   "source": [
    "df.head(1)"
   ]
  },
  {
   "cell_type": "markdown",
   "id": "3dc2a7e9",
   "metadata": {},
   "source": [
    "Cleaning missing data"
   ]
  },
  {
   "cell_type": "code",
   "execution_count": 67,
   "id": "555ab7f5",
   "metadata": {},
   "outputs": [],
   "source": [
    "#removing row which has NaN in name and in description.\n",
    "df.drop(index=72, inplace=True)"
   ]
  },
  {
   "cell_type": "code",
   "execution_count": 92,
   "id": "df48cbd2",
   "metadata": {},
   "outputs": [
    {
     "data": {
      "text/html": [
       "<div>\n",
       "<style scoped>\n",
       "    .dataframe tbody tr th:only-of-type {\n",
       "        vertical-align: middle;\n",
       "    }\n",
       "\n",
       "    .dataframe tbody tr th {\n",
       "        vertical-align: top;\n",
       "    }\n",
       "\n",
       "    .dataframe thead th {\n",
       "        text-align: right;\n",
       "    }\n",
       "</style>\n",
       "<table border=\"1\" class=\"dataframe\">\n",
       "  <thead>\n",
       "    <tr style=\"text-align: right;\">\n",
       "      <th></th>\n",
       "      <th>Product ID</th>\n",
       "      <th>Product Position</th>\n",
       "      <th>Promotion</th>\n",
       "      <th>Product Category</th>\n",
       "      <th>Seasonal</th>\n",
       "      <th>Sales Volume</th>\n",
       "      <th>brand</th>\n",
       "      <th>url</th>\n",
       "      <th>sku</th>\n",
       "      <th>name</th>\n",
       "      <th>description</th>\n",
       "      <th>price</th>\n",
       "      <th>currency</th>\n",
       "      <th>scraped_at</th>\n",
       "      <th>terms</th>\n",
       "      <th>section</th>\n",
       "    </tr>\n",
       "  </thead>\n",
       "  <tbody>\n",
       "    <tr>\n",
       "      <th>60</th>\n",
       "      <td>151925</td>\n",
       "      <td>End-cap</td>\n",
       "      <td>Yes</td>\n",
       "      <td>Clothing</td>\n",
       "      <td>Yes</td>\n",
       "      <td>2179</td>\n",
       "      <td>Zara</td>\n",
       "      <td>https://www.zara.com/us/en/vintage-effect-leat...</td>\n",
       "      <td>320774184-800-97</td>\n",
       "      <td>VINTAGE EFFECT LEATHER BOMBER JACKET</td>\n",
       "      <td>VINTAGE EFFECT LEATHER BOMBER JACKET</td>\n",
       "      <td>299.0</td>\n",
       "      <td>USD</td>\n",
       "      <td>2024-02-19T08:50:43.543555</td>\n",
       "      <td>jackets</td>\n",
       "      <td>MAN</td>\n",
       "    </tr>\n",
       "  </tbody>\n",
       "</table>\n",
       "</div>"
      ],
      "text/plain": [
       "    Product ID Product Position Promotion Product Category Seasonal  \\\n",
       "60      151925          End-cap       Yes         Clothing      Yes   \n",
       "\n",
       "    Sales Volume brand                                                url  \\\n",
       "60          2179  Zara  https://www.zara.com/us/en/vintage-effect-leat...   \n",
       "\n",
       "                 sku                                  name  \\\n",
       "60  320774184-800-97  VINTAGE EFFECT LEATHER BOMBER JACKET   \n",
       "\n",
       "                             description  price currency  \\\n",
       "60  VINTAGE EFFECT LEATHER BOMBER JACKET  299.0      USD   \n",
       "\n",
       "                    scraped_at    terms section  \n",
       "60  2024-02-19T08:50:43.543555  jackets     MAN  "
      ]
     },
     "execution_count": 92,
     "metadata": {},
     "output_type": "execute_result"
    }
   ],
   "source": [
    "#filling NaN description with product name\n",
    "name = df.loc[df.index==60, 'name']\n",
    "df.loc[df.index==60, 'description'] = name\n",
    "df.loc[df.index==60]\n"
   ]
  },
  {
   "cell_type": "markdown",
   "id": "3844a6a6",
   "metadata": {},
   "source": [
    "Url and Sku column are redundant, lets remove it"
   ]
  },
  {
   "cell_type": "code",
   "execution_count": 96,
   "id": "824bbb9d",
   "metadata": {},
   "outputs": [],
   "source": [
    "df.drop(columns=['url', 'sku'], inplace=True)"
   ]
  },
  {
   "cell_type": "markdown",
   "id": "31c5e574",
   "metadata": {},
   "source": [
    "Scraped_at is too messy and confusing as it also contain date, so let clean it and make a proper date column"
   ]
  },
  {
   "cell_type": "code",
   "execution_count": 112,
   "id": "3a53bb43",
   "metadata": {},
   "outputs": [
    {
     "data": {
      "text/html": [
       "<div>\n",
       "<style scoped>\n",
       "    .dataframe tbody tr th:only-of-type {\n",
       "        vertical-align: middle;\n",
       "    }\n",
       "\n",
       "    .dataframe tbody tr th {\n",
       "        vertical-align: top;\n",
       "    }\n",
       "\n",
       "    .dataframe thead th {\n",
       "        text-align: right;\n",
       "    }\n",
       "</style>\n",
       "<table border=\"1\" class=\"dataframe\">\n",
       "  <thead>\n",
       "    <tr style=\"text-align: right;\">\n",
       "      <th></th>\n",
       "      <th>Product ID</th>\n",
       "      <th>Product Position</th>\n",
       "      <th>Promotion</th>\n",
       "      <th>Product Category</th>\n",
       "      <th>Seasonal</th>\n",
       "      <th>Sales Volume</th>\n",
       "      <th>brand</th>\n",
       "      <th>name</th>\n",
       "      <th>description</th>\n",
       "      <th>price</th>\n",
       "      <th>currency</th>\n",
       "      <th>scraped_at</th>\n",
       "      <th>terms</th>\n",
       "      <th>section</th>\n",
       "    </tr>\n",
       "  </thead>\n",
       "  <tbody>\n",
       "    <tr>\n",
       "      <th>0</th>\n",
       "      <td>185102</td>\n",
       "      <td>Aisle</td>\n",
       "      <td>No</td>\n",
       "      <td>Clothing</td>\n",
       "      <td>No</td>\n",
       "      <td>2823</td>\n",
       "      <td>Zara</td>\n",
       "      <td>BASIC PUFFER JACKET</td>\n",
       "      <td>Puffer jacket made of tear-resistant ripstop f...</td>\n",
       "      <td>19.99</td>\n",
       "      <td>USD</td>\n",
       "      <td>2024-02-19</td>\n",
       "      <td>jackets</td>\n",
       "      <td>MAN</td>\n",
       "    </tr>\n",
       "    <tr>\n",
       "      <th>1</th>\n",
       "      <td>188771</td>\n",
       "      <td>Aisle</td>\n",
       "      <td>No</td>\n",
       "      <td>Clothing</td>\n",
       "      <td>No</td>\n",
       "      <td>654</td>\n",
       "      <td>Zara</td>\n",
       "      <td>TUXEDO JACKET</td>\n",
       "      <td>Straight fit blazer. Pointed lapel collar and ...</td>\n",
       "      <td>169.00</td>\n",
       "      <td>USD</td>\n",
       "      <td>2024-02-19</td>\n",
       "      <td>jackets</td>\n",
       "      <td>MAN</td>\n",
       "    </tr>\n",
       "    <tr>\n",
       "      <th>2</th>\n",
       "      <td>180176</td>\n",
       "      <td>End-cap</td>\n",
       "      <td>Yes</td>\n",
       "      <td>Clothing</td>\n",
       "      <td>Yes</td>\n",
       "      <td>2220</td>\n",
       "      <td>Zara</td>\n",
       "      <td>SLIM FIT SUIT JACKET</td>\n",
       "      <td>Slim fit jacket. Notched lapel collar. Long sl...</td>\n",
       "      <td>129.00</td>\n",
       "      <td>USD</td>\n",
       "      <td>2024-02-19</td>\n",
       "      <td>jackets</td>\n",
       "      <td>MAN</td>\n",
       "    </tr>\n",
       "    <tr>\n",
       "      <th>3</th>\n",
       "      <td>112917</td>\n",
       "      <td>Aisle</td>\n",
       "      <td>Yes</td>\n",
       "      <td>Clothing</td>\n",
       "      <td>Yes</td>\n",
       "      <td>1568</td>\n",
       "      <td>Zara</td>\n",
       "      <td>STRETCH SUIT JACKET</td>\n",
       "      <td>Slim fit jacket made of viscose blend fabric. ...</td>\n",
       "      <td>129.00</td>\n",
       "      <td>USD</td>\n",
       "      <td>2024-02-19</td>\n",
       "      <td>jackets</td>\n",
       "      <td>MAN</td>\n",
       "    </tr>\n",
       "    <tr>\n",
       "      <th>4</th>\n",
       "      <td>192936</td>\n",
       "      <td>End-cap</td>\n",
       "      <td>No</td>\n",
       "      <td>Clothing</td>\n",
       "      <td>Yes</td>\n",
       "      <td>2942</td>\n",
       "      <td>Zara</td>\n",
       "      <td>DOUBLE FACED JACKET</td>\n",
       "      <td>Jacket made of faux leather faux shearling wit...</td>\n",
       "      <td>139.00</td>\n",
       "      <td>USD</td>\n",
       "      <td>2024-02-19</td>\n",
       "      <td>jackets</td>\n",
       "      <td>MAN</td>\n",
       "    </tr>\n",
       "  </tbody>\n",
       "</table>\n",
       "</div>"
      ],
      "text/plain": [
       "   Product ID Product Position Promotion Product Category Seasonal  \\\n",
       "0      185102            Aisle        No         Clothing       No   \n",
       "1      188771            Aisle        No         Clothing       No   \n",
       "2      180176          End-cap       Yes         Clothing      Yes   \n",
       "3      112917            Aisle       Yes         Clothing      Yes   \n",
       "4      192936          End-cap        No         Clothing      Yes   \n",
       "\n",
       "   Sales Volume brand                  name  \\\n",
       "0          2823  Zara   BASIC PUFFER JACKET   \n",
       "1           654  Zara         TUXEDO JACKET   \n",
       "2          2220  Zara  SLIM FIT SUIT JACKET   \n",
       "3          1568  Zara   STRETCH SUIT JACKET   \n",
       "4          2942  Zara   DOUBLE FACED JACKET   \n",
       "\n",
       "                                         description   price currency  \\\n",
       "0  Puffer jacket made of tear-resistant ripstop f...   19.99      USD   \n",
       "1  Straight fit blazer. Pointed lapel collar and ...  169.00      USD   \n",
       "2  Slim fit jacket. Notched lapel collar. Long sl...  129.00      USD   \n",
       "3  Slim fit jacket made of viscose blend fabric. ...  129.00      USD   \n",
       "4  Jacket made of faux leather faux shearling wit...  139.00      USD   \n",
       "\n",
       "   scraped_at    terms section  \n",
       "0  2024-02-19  jackets     MAN  \n",
       "1  2024-02-19  jackets     MAN  \n",
       "2  2024-02-19  jackets     MAN  \n",
       "3  2024-02-19  jackets     MAN  \n",
       "4  2024-02-19  jackets     MAN  "
      ]
     },
     "execution_count": 112,
     "metadata": {},
     "output_type": "execute_result"
    }
   ],
   "source": [
    "df['scraped_at'] = df['scraped_at'].str[:10]\n",
    "df.head()"
   ]
  },
  {
   "cell_type": "markdown",
   "id": "b989a816",
   "metadata": {},
   "source": [
    "Analysis"
   ]
  },
  {
   "cell_type": "markdown",
   "id": "7d87ba1a",
   "metadata": {},
   "source": [
    "1.which product used promotion"
   ]
  },
  {
   "cell_type": "code",
   "execution_count": 57,
   "id": "432212c5",
   "metadata": {},
   "outputs": [],
   "source": [
    "a= df.loc[df['Promotion'] == 'Yes']\n",
    "b= a.groupby('terms')['Sales Volume'].sum()\n",
    "\n",
    "#total 119 products"
   ]
  },
  {
   "cell_type": "code",
   "execution_count": 58,
   "id": "7fad0cbd",
   "metadata": {},
   "outputs": [
    {
     "data": {
      "text/plain": [
       "(0.0, 150000.0)"
      ]
     },
     "execution_count": 58,
     "metadata": {},
     "output_type": "execute_result"
    },
    {
     "data": {
      "image/png": "[encoded data removed]",
      "text/plain": [
       "<Figure size 640x480 with 1 Axes>"
      ]
     },
     "metadata": {},
     "output_type": "display_data"
    }
   ],
   "source": [
    "b.plot.bar(color=['green', 'skyblue', 'orange', 'red', 'navy'])\n",
    "plt.title('Product used Promotion')\n",
    "plt.xlabel('Garment Type')\n",
    "plt.ylabel('Sales Volume')\n",
    "plt.legend()\n",
    "plt.ylim(0,150000)"
   ]
  },
  {
   "cell_type": "markdown",
   "id": "5f5f4e2d",
   "metadata": {},
   "source": [
    "2. Product used promotion and they are seasonal also"
   ]
  },
  {
   "cell_type": "code",
   "execution_count": 63,
   "id": "2bd35d1c",
   "metadata": {},
   "outputs": [],
   "source": [
    "a = df.loc[(df['Promotion'] == 'Yes') & (df['Seasonal'] == 'Yes')]\n",
    "b= a.groupby('terms')['Sales Volume'].sum()\n",
    "\n",
    "#total 61 products"
   ]
  },
  {
   "cell_type": "code",
   "execution_count": 65,
   "id": "82df7800",
   "metadata": {},
   "outputs": [
    {
     "data": {
      "text/plain": [
       "(0.0, 100000.0)"
      ]
     },
     "execution_count": 65,
     "metadata": {},
     "output_type": "execute_result"
    },
    {
     "data": {
      "image/png": "[encoded data removed]",
      "text/plain": [
       "<Figure size 640x480 with 1 Axes>"
      ]
     },
     "metadata": {},
     "output_type": "display_data"
    }
   ],
   "source": [
    "b.plot.bar(color=['green', 'skyblue', 'orange', 'red', 'navy'])\n",
    "plt.title('Product used Promotion and are Seasonal')\n",
    "plt.xlabel('Garment Type')\n",
    "plt.ylabel('Sales Volume')\n",
    "plt.legend()\n",
    "plt.ylim(0,100000)"
   ]
  },
  {
   "cell_type": "markdown",
   "id": "5cd6dad2",
   "metadata": {},
   "source": [
    "3. Product which sold highest among all"
   ]
  },
  {
   "cell_type": "code",
   "execution_count": 70,
   "id": "4a04766c",
   "metadata": {},
   "outputs": [
    {
     "data": {
      "text/plain": [
       "<matplotlib.legend.Legend at 0x1c965520410>"
      ]
     },
     "execution_count": 70,
     "metadata": {},
     "output_type": "execute_result"
    },
    {
     "data": {
      "image/png": "[encoded data removed]",
      "text/plain": [
       "<Figure size 640x480 with 1 Axes>"
      ]
     },
     "metadata": {},
     "output_type": "display_data"
    }
   ],
   "source": [
    "df.loc[df['Sales Volume'] == df['Sales Volume'].max()]\n",
    "a = df.groupby('terms')['Sales Volume'].sum()\n",
    "a.plot.pie(autopct='%1.1f%%')\n",
    "plt.legend()\n",
    "#product - PLAID TIE DYE OVERSHIRT"
   ]
  },
  {
   "cell_type": "markdown",
   "id": "94321e78",
   "metadata": {},
   "source": [
    "4. Products which have sales volume more than 2500"
   ]
  },
  {
   "cell_type": "code",
   "execution_count": 71,
   "id": "a9ccd53c",
   "metadata": {},
   "outputs": [
    {
     "data": {
      "text/html": [
       "<div>\n",
       "<style scoped>\n",
       "    .dataframe tbody tr th:only-of-type {\n",
       "        vertical-align: middle;\n",
       "    }\n",
       "\n",
       "    .dataframe tbody tr th {\n",
       "        vertical-align: top;\n",
       "    }\n",
       "\n",
       "    .dataframe thead th {\n",
       "        text-align: right;\n",
       "    }\n",
       "</style>\n",
       "<table border=\"1\" class=\"dataframe\">\n",
       "  <thead>\n",
       "    <tr style=\"text-align: right;\">\n",
       "      <th></th>\n",
       "      <th>Product ID</th>\n",
       "      <th>Product Position</th>\n",
       "      <th>Promotion</th>\n",
       "      <th>Product Category</th>\n",
       "      <th>Seasonal</th>\n",
       "      <th>Sales Volume</th>\n",
       "      <th>brand</th>\n",
       "      <th>url</th>\n",
       "      <th>sku</th>\n",
       "      <th>name</th>\n",
       "      <th>description</th>\n",
       "      <th>price</th>\n",
       "      <th>currency</th>\n",
       "      <th>scraped_at</th>\n",
       "      <th>terms</th>\n",
       "      <th>section</th>\n",
       "    </tr>\n",
       "  </thead>\n",
       "  <tbody>\n",
       "    <tr>\n",
       "      <th>0</th>\n",
       "      <td>185102</td>\n",
       "      <td>Aisle</td>\n",
       "      <td>No</td>\n",
       "      <td>Clothing</td>\n",
       "      <td>No</td>\n",
       "      <td>2823</td>\n",
       "      <td>Zara</td>\n",
       "      <td>https://www.zara.com/us/en/basic-puffer-jacket...</td>\n",
       "      <td>272145190-250-2</td>\n",
       "      <td>BASIC PUFFER JACKET</td>\n",
       "      <td>Puffer jacket made of tear-resistant ripstop f...</td>\n",
       "      <td>19.99</td>\n",
       "      <td>USD</td>\n",
       "      <td>2024-02-19T08:50:05.654618</td>\n",
       "      <td>jackets</td>\n",
       "      <td>MAN</td>\n",
       "    </tr>\n",
       "    <tr>\n",
       "      <th>4</th>\n",
       "      <td>192936</td>\n",
       "      <td>End-cap</td>\n",
       "      <td>No</td>\n",
       "      <td>Clothing</td>\n",
       "      <td>Yes</td>\n",
       "      <td>2942</td>\n",
       "      <td>Zara</td>\n",
       "      <td>https://www.zara.com/us/en/double-faced-jacket...</td>\n",
       "      <td>312368260-800-2</td>\n",
       "      <td>DOUBLE FACED JACKET</td>\n",
       "      <td>Jacket made of faux leather faux shearling wit...</td>\n",
       "      <td>139.00</td>\n",
       "      <td>USD</td>\n",
       "      <td>2024-02-19T08:50:08.453847</td>\n",
       "      <td>jackets</td>\n",
       "      <td>MAN</td>\n",
       "    </tr>\n",
       "    <tr>\n",
       "      <th>5</th>\n",
       "      <td>117590</td>\n",
       "      <td>End-cap</td>\n",
       "      <td>No</td>\n",
       "      <td>Clothing</td>\n",
       "      <td>No</td>\n",
       "      <td>2968</td>\n",
       "      <td>Zara</td>\n",
       "      <td>https://www.zara.com/us/en/contrasting-collar-...</td>\n",
       "      <td>320298385-807-2</td>\n",
       "      <td>CONTRASTING COLLAR JACKET</td>\n",
       "      <td>Relaxed fit jacket. Contrasting lapel collar a...</td>\n",
       "      <td>79.90</td>\n",
       "      <td>USD</td>\n",
       "      <td>2024-02-19T08:50:09.140497</td>\n",
       "      <td>jackets</td>\n",
       "      <td>MAN</td>\n",
       "    </tr>\n",
       "    <tr>\n",
       "      <th>10</th>\n",
       "      <td>113143</td>\n",
       "      <td>Aisle</td>\n",
       "      <td>Yes</td>\n",
       "      <td>Clothing</td>\n",
       "      <td>Yes</td>\n",
       "      <td>2663</td>\n",
       "      <td>Zara</td>\n",
       "      <td>https://www.zara.com/us/en/herringbone-texture...</td>\n",
       "      <td>316207900-710-2</td>\n",
       "      <td>HERRINGBONE TEXTURED JACKET</td>\n",
       "      <td>Jacket made of wool blend fabric. Lapel collar...</td>\n",
       "      <td>129.00</td>\n",
       "      <td>USD</td>\n",
       "      <td>2024-02-19T08:50:12.011296</td>\n",
       "      <td>jackets</td>\n",
       "      <td>MAN</td>\n",
       "    </tr>\n",
       "    <tr>\n",
       "      <th>27</th>\n",
       "      <td>187234</td>\n",
       "      <td>Front of Store</td>\n",
       "      <td>Yes</td>\n",
       "      <td>Clothing</td>\n",
       "      <td>Yes</td>\n",
       "      <td>2575</td>\n",
       "      <td>Zara</td>\n",
       "      <td>https://www.zara.com/us/en/stretch-pocket-over...</td>\n",
       "      <td>342657802-914-2</td>\n",
       "      <td>STRETCH POCKET OVERSHIRT</td>\n",
       "      <td>Overshirt made of stretchy fabric. Lapel colla...</td>\n",
       "      <td>59.90</td>\n",
       "      <td>USD</td>\n",
       "      <td>2024-02-19T08:50:21.681257</td>\n",
       "      <td>jackets</td>\n",
       "      <td>MAN</td>\n",
       "    </tr>\n",
       "  </tbody>\n",
       "</table>\n",
       "</div>"
      ],
      "text/plain": [
       "    Product ID Product Position Promotion Product Category Seasonal  \\\n",
       "0       185102            Aisle        No         Clothing       No   \n",
       "4       192936          End-cap        No         Clothing      Yes   \n",
       "5       117590          End-cap        No         Clothing       No   \n",
       "10      113143            Aisle       Yes         Clothing      Yes   \n",
       "27      187234   Front of Store       Yes         Clothing      Yes   \n",
       "\n",
       "    Sales Volume brand                                                url  \\\n",
       "0           2823  Zara  https://www.zara.com/us/en/basic-puffer-jacket...   \n",
       "4           2942  Zara  https://www.zara.com/us/en/double-faced-jacket...   \n",
       "5           2968  Zara  https://www.zara.com/us/en/contrasting-collar-...   \n",
       "10          2663  Zara  https://www.zara.com/us/en/herringbone-texture...   \n",
       "27          2575  Zara  https://www.zara.com/us/en/stretch-pocket-over...   \n",
       "\n",
       "                sku                         name  \\\n",
       "0   272145190-250-2          BASIC PUFFER JACKET   \n",
       "4   312368260-800-2          DOUBLE FACED JACKET   \n",
       "5   320298385-807-2    CONTRASTING COLLAR JACKET   \n",
       "10  316207900-710-2  HERRINGBONE TEXTURED JACKET   \n",
       "27  342657802-914-2     STRETCH POCKET OVERSHIRT   \n",
       "\n",
       "                                          description   price currency  \\\n",
       "0   Puffer jacket made of tear-resistant ripstop f...   19.99      USD   \n",
       "4   Jacket made of faux leather faux shearling wit...  139.00      USD   \n",
       "5   Relaxed fit jacket. Contrasting lapel collar a...   79.90      USD   \n",
       "10  Jacket made of wool blend fabric. Lapel collar...  129.00      USD   \n",
       "27  Overshirt made of stretchy fabric. Lapel colla...   59.90      USD   \n",
       "\n",
       "                    scraped_at    terms section  \n",
       "0   2024-02-19T08:50:05.654618  jackets     MAN  \n",
       "4   2024-02-19T08:50:08.453847  jackets     MAN  \n",
       "5   2024-02-19T08:50:09.140497  jackets     MAN  \n",
       "10  2024-02-19T08:50:12.011296  jackets     MAN  \n",
       "27  2024-02-19T08:50:21.681257  jackets     MAN  "
      ]
     },
     "execution_count": 71,
     "metadata": {},
     "output_type": "execute_result"
    }
   ],
   "source": [
    "df.loc[df['Sales Volume'] >2500].head()\n",
    "# 51 entries"
   ]
  },
  {
   "cell_type": "markdown",
   "id": "ff9364dc",
   "metadata": {},
   "source": [
    "5.Products which have sales volume more than 2500 and price is morethan $100"
   ]
  },
  {
   "cell_type": "code",
   "execution_count": 88,
   "id": "54eb0383",
   "metadata": {},
   "outputs": [],
   "source": [
    "df.query(\"`Sales Volume`>= 2500 and `price`>100\")\n",
    "#OR\n",
    "a = df.loc[\n",
    "    (df['Sales Volume'] > 2500) &\n",
    "    (df['price'] > 100.0)\n",
    "]\n",
    "\n",
    "# total 14 products"
   ]
  },
  {
   "cell_type": "code",
   "execution_count": 89,
   "id": "10ba64ee",
   "metadata": {},
   "outputs": [
    {
     "data": {
      "text/plain": [
       "<matplotlib.legend.Legend at 0x1c96e0334d0>"
      ]
     },
     "execution_count": 89,
     "metadata": {},
     "output_type": "execute_result"
    },
    {
     "data": {
      "image/png": "[encoded data removed]",
      "text/plain": [
       "<Figure size 640x480 with 1 Axes>"
      ]
     },
     "metadata": {},
     "output_type": "display_data"
    }
   ],
   "source": [
    "a.plot.bar(x='price', y='Sales Volume')\n",
    "plt.title('Product has Sales Volume >= 2500 and price > $100')\n",
    "plt.xlabel('Price')\n",
    "plt.ylabel('Sales Volume')\n",
    "plt.legend()"
   ]
  },
  {
   "cell_type": "markdown",
   "id": "3d0074b8",
   "metadata": {},
   "source": [
    "6. Products which have sales volume more than 2500, price is morethan $100, it is seasonal and used promotion"
   ]
  },
  {
   "cell_type": "code",
   "execution_count": 151,
   "id": "78803b33",
   "metadata": {},
   "outputs": [
    {
     "data": {
      "text/html": [
       "<div>\n",
       "<style scoped>\n",
       "    .dataframe tbody tr th:only-of-type {\n",
       "        vertical-align: middle;\n",
       "    }\n",
       "\n",
       "    .dataframe tbody tr th {\n",
       "        vertical-align: top;\n",
       "    }\n",
       "\n",
       "    .dataframe thead th {\n",
       "        text-align: right;\n",
       "    }\n",
       "</style>\n",
       "<table border=\"1\" class=\"dataframe\">\n",
       "  <thead>\n",
       "    <tr style=\"text-align: right;\">\n",
       "      <th></th>\n",
       "      <th>Product ID</th>\n",
       "      <th>Product Position</th>\n",
       "      <th>Promotion</th>\n",
       "      <th>Product Category</th>\n",
       "      <th>Seasonal</th>\n",
       "      <th>Sales Volume</th>\n",
       "      <th>brand</th>\n",
       "      <th>name</th>\n",
       "      <th>description</th>\n",
       "      <th>price</th>\n",
       "      <th>currency</th>\n",
       "      <th>scraped_at</th>\n",
       "      <th>terms</th>\n",
       "      <th>section</th>\n",
       "    </tr>\n",
       "  </thead>\n",
       "  <tbody>\n",
       "    <tr>\n",
       "      <th>10</th>\n",
       "      <td>113143</td>\n",
       "      <td>Aisle</td>\n",
       "      <td>Yes</td>\n",
       "      <td>Clothing</td>\n",
       "      <td>Yes</td>\n",
       "      <td>2663</td>\n",
       "      <td>Zara</td>\n",
       "      <td>HERRINGBONE TEXTURED JACKET</td>\n",
       "      <td>Jacket made of wool blend fabric. Lapel collar...</td>\n",
       "      <td>129.0</td>\n",
       "      <td>USD</td>\n",
       "      <td>2024-02-19</td>\n",
       "      <td>jackets</td>\n",
       "      <td>MAN</td>\n",
       "    </tr>\n",
       "    <tr>\n",
       "      <th>100</th>\n",
       "      <td>138779</td>\n",
       "      <td>Front of Store</td>\n",
       "      <td>Yes</td>\n",
       "      <td>Clothing</td>\n",
       "      <td>Yes</td>\n",
       "      <td>2801</td>\n",
       "      <td>Zara</td>\n",
       "      <td>SLIM FIT SUIT JACKET</td>\n",
       "      <td>Slim fit jacket made of viscose blend fabric. ...</td>\n",
       "      <td>139.0</td>\n",
       "      <td>USD</td>\n",
       "      <td>2024-02-19</td>\n",
       "      <td>jackets</td>\n",
       "      <td>MAN</td>\n",
       "    </tr>\n",
       "    <tr>\n",
       "      <th>243</th>\n",
       "      <td>172015</td>\n",
       "      <td>End-cap</td>\n",
       "      <td>Yes</td>\n",
       "      <td>Clothing</td>\n",
       "      <td>Yes</td>\n",
       "      <td>2622</td>\n",
       "      <td>Zara</td>\n",
       "      <td>FAUX LEATHER BOMBER JACKET</td>\n",
       "      <td>Cropped overshirt. Lapel collar and long sleev...</td>\n",
       "      <td>139.0</td>\n",
       "      <td>USD</td>\n",
       "      <td>2024-02-19</td>\n",
       "      <td>t-shirts</td>\n",
       "      <td>MAN</td>\n",
       "    </tr>\n",
       "  </tbody>\n",
       "</table>\n",
       "</div>"
      ],
      "text/plain": [
       "     Product ID Product Position Promotion Product Category Seasonal  \\\n",
       "10       113143            Aisle       Yes         Clothing      Yes   \n",
       "100      138779   Front of Store       Yes         Clothing      Yes   \n",
       "243      172015          End-cap       Yes         Clothing      Yes   \n",
       "\n",
       "     Sales Volume brand                         name  \\\n",
       "10           2663  Zara  HERRINGBONE TEXTURED JACKET   \n",
       "100          2801  Zara         SLIM FIT SUIT JACKET   \n",
       "243          2622  Zara   FAUX LEATHER BOMBER JACKET   \n",
       "\n",
       "                                           description  price currency  \\\n",
       "10   Jacket made of wool blend fabric. Lapel collar...  129.0      USD   \n",
       "100  Slim fit jacket made of viscose blend fabric. ...  139.0      USD   \n",
       "243  Cropped overshirt. Lapel collar and long sleev...  139.0      USD   \n",
       "\n",
       "     scraped_at     terms section  \n",
       "10   2024-02-19   jackets     MAN  \n",
       "100  2024-02-19   jackets     MAN  \n",
       "243  2024-02-19  t-shirts     MAN  "
      ]
     },
     "execution_count": 151,
     "metadata": {},
     "output_type": "execute_result"
    }
   ],
   "source": [
    "df.query(\"`Sales Volume`> 2500 and `price`>100 and `Promotion`=='Yes' and `Seasonal`=='Yes'\")\n",
    "#3 products"
   ]
  },
  {
   "cell_type": "code",
   "execution_count": 156,
   "id": "13919f3f",
   "metadata": {},
   "outputs": [
    {
     "data": {
      "text/html": [
       "<div>\n",
       "<style scoped>\n",
       "    .dataframe tbody tr th:only-of-type {\n",
       "        vertical-align: middle;\n",
       "    }\n",
       "\n",
       "    .dataframe tbody tr th {\n",
       "        vertical-align: top;\n",
       "    }\n",
       "\n",
       "    .dataframe thead th {\n",
       "        text-align: right;\n",
       "    }\n",
       "</style>\n",
       "<table border=\"1\" class=\"dataframe\">\n",
       "  <thead>\n",
       "    <tr style=\"text-align: right;\">\n",
       "      <th></th>\n",
       "      <th>Product ID</th>\n",
       "      <th>Product Position</th>\n",
       "      <th>Promotion</th>\n",
       "      <th>Product Category</th>\n",
       "      <th>Seasonal</th>\n",
       "      <th>Sales Volume</th>\n",
       "      <th>brand</th>\n",
       "      <th>name</th>\n",
       "      <th>description</th>\n",
       "      <th>price</th>\n",
       "      <th>currency</th>\n",
       "      <th>scraped_at</th>\n",
       "      <th>terms</th>\n",
       "      <th>section</th>\n",
       "    </tr>\n",
       "  </thead>\n",
       "  <tbody>\n",
       "    <tr>\n",
       "      <th>10</th>\n",
       "      <td>113143</td>\n",
       "      <td>Aisle</td>\n",
       "      <td>Yes</td>\n",
       "      <td>Clothing</td>\n",
       "      <td>Yes</td>\n",
       "      <td>2663</td>\n",
       "      <td>Zara</td>\n",
       "      <td>HERRINGBONE TEXTURED JACKET</td>\n",
       "      <td>Jacket made of wool blend fabric. Lapel collar...</td>\n",
       "      <td>129.0</td>\n",
       "      <td>USD</td>\n",
       "      <td>2024-02-19</td>\n",
       "      <td>jackets</td>\n",
       "      <td>MAN</td>\n",
       "    </tr>\n",
       "    <tr>\n",
       "      <th>100</th>\n",
       "      <td>138779</td>\n",
       "      <td>Front of Store</td>\n",
       "      <td>Yes</td>\n",
       "      <td>Clothing</td>\n",
       "      <td>Yes</td>\n",
       "      <td>2801</td>\n",
       "      <td>Zara</td>\n",
       "      <td>SLIM FIT SUIT JACKET</td>\n",
       "      <td>Slim fit jacket made of viscose blend fabric. ...</td>\n",
       "      <td>139.0</td>\n",
       "      <td>USD</td>\n",
       "      <td>2024-02-19</td>\n",
       "      <td>jackets</td>\n",
       "      <td>MAN</td>\n",
       "    </tr>\n",
       "    <tr>\n",
       "      <th>243</th>\n",
       "      <td>172015</td>\n",
       "      <td>End-cap</td>\n",
       "      <td>Yes</td>\n",
       "      <td>Clothing</td>\n",
       "      <td>Yes</td>\n",
       "      <td>2622</td>\n",
       "      <td>Zara</td>\n",
       "      <td>FAUX LEATHER BOMBER JACKET</td>\n",
       "      <td>Cropped overshirt. Lapel collar and long sleev...</td>\n",
       "      <td>139.0</td>\n",
       "      <td>USD</td>\n",
       "      <td>2024-02-19</td>\n",
       "      <td>t-shirts</td>\n",
       "      <td>MAN</td>\n",
       "    </tr>\n",
       "  </tbody>\n",
       "</table>\n",
       "</div>"
      ],
      "text/plain": [
       "     Product ID Product Position Promotion Product Category Seasonal  \\\n",
       "10       113143            Aisle       Yes         Clothing      Yes   \n",
       "100      138779   Front of Store       Yes         Clothing      Yes   \n",
       "243      172015          End-cap       Yes         Clothing      Yes   \n",
       "\n",
       "     Sales Volume brand                         name  \\\n",
       "10           2663  Zara  HERRINGBONE TEXTURED JACKET   \n",
       "100          2801  Zara         SLIM FIT SUIT JACKET   \n",
       "243          2622  Zara   FAUX LEATHER BOMBER JACKET   \n",
       "\n",
       "                                           description  price currency  \\\n",
       "10   Jacket made of wool blend fabric. Lapel collar...  129.0      USD   \n",
       "100  Slim fit jacket made of viscose blend fabric. ...  139.0      USD   \n",
       "243  Cropped overshirt. Lapel collar and long sleev...  139.0      USD   \n",
       "\n",
       "     scraped_at     terms section  \n",
       "10   2024-02-19   jackets     MAN  \n",
       "100  2024-02-19   jackets     MAN  \n",
       "243  2024-02-19  t-shirts     MAN  "
      ]
     },
     "execution_count": 156,
     "metadata": {},
     "output_type": "execute_result"
    }
   ],
   "source": [
    "#or we can also analyse like this (below):\n",
    "df.loc[\n",
    "    (df['Sales Volume'] > 2500) &\n",
    "    (df['price'] > 100.0) &\n",
    "    (df['Promotion'] == 'Yes') &\n",
    "    (df['Seasonal'] == 'Yes')\n",
    "]"
   ]
  },
  {
   "cell_type": "markdown",
   "id": "3e0dc3c0",
   "metadata": {},
   "source": [
    "7. Which type of Product position has the highest sales volume and calculate mean\n"
   ]
  },
  {
   "cell_type": "code",
   "execution_count": 97,
   "id": "eef7ca31",
   "metadata": {},
   "outputs": [
    {
     "data": {
      "text/html": [
       "<div>\n",
       "<style scoped>\n",
       "    .dataframe tbody tr th:only-of-type {\n",
       "        vertical-align: middle;\n",
       "    }\n",
       "\n",
       "    .dataframe tbody tr th {\n",
       "        vertical-align: top;\n",
       "    }\n",
       "\n",
       "    .dataframe thead th {\n",
       "        text-align: right;\n",
       "    }\n",
       "</style>\n",
       "<table border=\"1\" class=\"dataframe\">\n",
       "  <thead>\n",
       "    <tr style=\"text-align: right;\">\n",
       "      <th></th>\n",
       "      <th>sum</th>\n",
       "      <th>max</th>\n",
       "      <th>mean</th>\n",
       "    </tr>\n",
       "    <tr>\n",
       "      <th>Product Position</th>\n",
       "      <th></th>\n",
       "      <th></th>\n",
       "      <th></th>\n",
       "    </tr>\n",
       "  </thead>\n",
       "  <tbody>\n",
       "    <tr>\n",
       "      <th>Aisle</th>\n",
       "      <td>177396</td>\n",
       "      <td>2989</td>\n",
       "      <td>1828.824742</td>\n",
       "    </tr>\n",
       "    <tr>\n",
       "      <th>End-cap</th>\n",
       "      <td>152930</td>\n",
       "      <td>2968</td>\n",
       "      <td>1778.255814</td>\n",
       "    </tr>\n",
       "    <tr>\n",
       "      <th>Front of Store</th>\n",
       "      <td>129247</td>\n",
       "      <td>2870</td>\n",
       "      <td>1873.144928</td>\n",
       "    </tr>\n",
       "  </tbody>\n",
       "</table>\n",
       "</div>"
      ],
      "text/plain": [
       "                     sum   max         mean\n",
       "Product Position                           \n",
       "Aisle             177396  2989  1828.824742\n",
       "End-cap           152930  2968  1778.255814\n",
       "Front of Store    129247  2870  1873.144928"
      ]
     },
     "execution_count": 97,
     "metadata": {},
     "output_type": "execute_result"
    }
   ],
   "source": [
    "a = df.groupby('Product Position')['Sales Volume'].agg(['sum', 'max', 'mean'])\n",
    "a\n",
    "# Aisle position and highest sales volume of a product is at aisle position"
   ]
  },
  {
   "cell_type": "code",
   "execution_count": 101,
   "id": "eba11796",
   "metadata": {},
   "outputs": [
    {
     "data": {
      "text/plain": [
       "Text(0, 0.5, 'Sales Volume')"
      ]
     },
     "execution_count": 101,
     "metadata": {},
     "output_type": "execute_result"
    },
    {
     "data": {
      "image/png": "[encoded data removed]",
      "text/plain": [
       "<Figure size 640x480 with 1 Axes>"
      ]
     },
     "metadata": {},
     "output_type": "display_data"
    }
   ],
   "source": [
    "a.plot.bar()\n",
    "plt.title('SUM, MAX and MEAN of Product Position by Sales Volume')\n",
    "plt.legend()\n",
    "plt.ylabel('Sales Volume')"
   ]
  },
  {
   "cell_type": "markdown",
   "id": "7e03a0bc",
   "metadata": {},
   "source": [
    "8. Top 20 highest selling products type"
   ]
  },
  {
   "cell_type": "code",
   "execution_count": 127,
   "id": "f5383b92",
   "metadata": {},
   "outputs": [],
   "source": [
    "a = df.sort_values(by='Sales Volume', ascending=False).head(20)\n",
    "b= a.groupby('terms')['Sales Volume'].sum()\n",
    "# here six products are jackets"
   ]
  },
  {
   "cell_type": "code",
   "execution_count": 128,
   "id": "13173893",
   "metadata": {},
   "outputs": [
    {
     "data": {
      "text/plain": [
       "Text(0, 0.5, 'Product Sold')"
      ]
     },
     "execution_count": 128,
     "metadata": {},
     "output_type": "execute_result"
    },
    {
     "data": {
      "image/png": "[encoded data removed]",
      "text/plain": [
       "<Figure size 640x480 with 1 Axes>"
      ]
     },
     "metadata": {},
     "output_type": "display_data"
    }
   ],
   "source": [
    "b.plot.bar()\n",
    "plt.title('Top 20 highest selling products type')\n",
    "plt.xlabel('Garment Type')\n",
    "plt.ylabel('Product Sold')"
   ]
  },
  {
   "cell_type": "markdown",
   "id": "1080be9c",
   "metadata": {},
   "source": [
    "9. Top 10 lowest selling products"
   ]
  },
  {
   "cell_type": "code",
   "execution_count": 129,
   "id": "cf5feb86",
   "metadata": {},
   "outputs": [],
   "source": [
    "a = df.sort_values(by='Sales Volume').head(20)\n",
    "b= a.groupby('terms')['Sales Volume'].sum()\n",
    "# here 5 products are sweaters"
   ]
  },
  {
   "cell_type": "code",
   "execution_count": 130,
   "id": "f2f4e7e6",
   "metadata": {},
   "outputs": [
    {
     "data": {
      "text/plain": [
       "Text(0, 0.5, 'Product Sold')"
      ]
     },
     "execution_count": 130,
     "metadata": {},
     "output_type": "execute_result"
    },
    {
     "data": {
      "image/png": "[encoded data removed]",
      "text/plain": [
       "<Figure size 640x480 with 1 Axes>"
      ]
     },
     "metadata": {},
     "output_type": "display_data"
    }
   ],
   "source": [
    "b.plot.bar()\n",
    "plt.title('Top 20 highest selling products type')\n",
    "plt.xlabel('Garment Type')\n",
    "plt.ylabel('Product Sold')"
   ]
  }
 ],
 "metadata": {
  "kernelspec": {
   "display_name": "Python 3",
   "language": "python",
   "name": "python3"
  },
  "language_info": {
   "codemirror_mode": {
    "name": "ipython",
    "version": 3
   },
   "file_extension": ".py",
   "mimetype": "text/x-python",
   "name": "python",
   "nbconvert_exporter": "python",
   "pygments_lexer": "ipython3",
   "version": "3.13.3"
  }
 },
 "nbformat": 4,
 "nbformat_minor": 5
}
